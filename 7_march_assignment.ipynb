{
 "cells": [
  {
   "cell_type": "raw",
   "id": "e378122d",
   "metadata": {},
   "source": [
    "Q1. What are the three measures of central tendency?\n",
    "ANS. The Tree measure of central tendency is Mean, Median, Mode\n"
   ]
  },
  {
   "cell_type": "raw",
   "id": "d5854cdb",
   "metadata": {},
   "source": [
    "Q2. What is the difference between the mean, median, and mode? How are they used to measure the\n",
    "central tendency of a dataset?\n",
    "ANS. Mean - Average of the observation.\n",
    "Median - Median is the middle of the observation after sorting\n",
    "Mode - The maximum occuring element is called the mode\n",
    "They measure central tendancy of a dataset, All three measures are used to give us a good representative for \"average\" in our data samples. However, based on the type and properties of each we have to use them in different situations. Based on the types of variables"
   ]
  },
  {
   "cell_type": "code",
   "execution_count": 5,
   "id": "2b3f5d86",
   "metadata": {},
   "outputs": [
    {
     "name": "stdout",
     "output_type": "stream",
     "text": [
      "mean177.01875\n",
      "median 177.0\n",
      "mode ModeResult(mode=array([177.]), count=array([3]))\n"
     ]
    },
    {
     "name": "stderr",
     "output_type": "stream",
     "text": [
      "C:\\Users\\acer\\AppData\\Local\\Temp\\ipykernel_11880\\1834254414.py:9: FutureWarning: Unlike other reduction functions (e.g. `skew`, `kurtosis`), the default behavior of `mode` typically preserves the axis it acts along. In SciPy 1.11.0, this behavior will change: the default value of `keepdims` will become False, the `axis` over which the statistic is taken will be eliminated, and the value None will no longer be accepted. Set `keepdims` to True or False to avoid this warning.\n",
      "  print('mode',stats.mode(a))\n"
     ]
    }
   ],
   "source": [
    "#Q3. Measure the three measures of central tendency for the given height data:\n",
    "a = [178,177,176,177,178.2,178,175,179,180,175,178.9,176.2,177,172.5,178,176.5]\n",
    "import numpy as np \n",
    "mode_1 = np.mean(a)\n",
    "print('mean' + str(mode_1))\n",
    "median_1 = np.median(a)\n",
    "print('median', median_1)\n",
    "from scipy import stats\n",
    "print('mode',stats.mode(a))"
   ]
  },
  {
   "cell_type": "code",
   "execution_count": 6,
   "id": "fd157813",
   "metadata": {},
   "outputs": [
    {
     "data": {
      "text/plain": [
       "1.7885814036548633"
      ]
     },
     "execution_count": 6,
     "metadata": {},
     "output_type": "execute_result"
    }
   ],
   "source": [
    "'''Q4. Find the standard deviation for the given data:\n",
    "[178,177,176,177,178.2,178,175,179,180,175,178.9,176.2,177,172.5,178,176.5]'''\n",
    "b = [178,177,176,177,178.2,178,175,179,180,175,178.9,176.2,177,172.5,178,176.5]\n",
    "sd = np.std(b)\n",
    "sd"
   ]
  },
  {
   "cell_type": "code",
   "execution_count": null,
   "id": "a570b23a",
   "metadata": {},
   "outputs": [],
   "source": [
    "'''Q5. How are measures of dispersion such as range, variance, and standard deviation used to describe\n",
    "the spread of a dataset? Provide an example.'''\n",
    "'''ANS. variance, range, standard devation all show how the data is spread. and how far the mean is from the observations.\n",
    "this describe data set'''"
   ]
  },
  {
   "cell_type": "code",
   "execution_count": null,
   "id": "b5dde5d3",
   "metadata": {},
   "outputs": [],
   "source": [
    "'''Q6. What is a Venn diagram?'''\n",
    "'''Ans. Venn diagram is visual representaion of relation among data.'''"
   ]
  },
  {
   "cell_type": "code",
   "execution_count": 9,
   "id": "bb65da3a",
   "metadata": {},
   "outputs": [
    {
     "name": "stdout",
     "output_type": "stream",
     "text": [
      "intersection {2, 6}\n",
      "union {0, 2, 3, 4, 5, 6, 7, 8, 10}\n"
     ]
    }
   ],
   "source": [
    "'''Q7. For the two given sets A = (2,3,4,5,6,7) & B = (0,2,6,8,10). Find:\n",
    "(i) A ^ B\n",
    "(ii) A ⋃ B'''\n",
    "a = {2,3,4,5,6,7}\n",
    "b = {0,2,6,8,10}\n",
    "inter = a.intersection(b)\n",
    "print('intersection',inter)\n",
    "union_1 = a.union(b)\n",
    "print('union', union_1)"
   ]
  },
  {
   "cell_type": "code",
   "execution_count": null,
   "id": "ea4a44a5",
   "metadata": {},
   "outputs": [],
   "source": [
    "'''Q8. What do you understand about skewness in data?'''\n",
    "#Skewness is a measurement of the distortion of symmetrical distribution or asymmetry in a data set"
   ]
  },
  {
   "cell_type": "code",
   "execution_count": null,
   "id": "1009efd7",
   "metadata": {},
   "outputs": [],
   "source": [
    "'''Q9. If a data is right skewed then what will be the position of median with respect to mean?'''\n",
    "'''Median will be right of the mean'''"
   ]
  },
  {
   "cell_type": "code",
   "execution_count": null,
   "id": "ff8ccf1b",
   "metadata": {},
   "outputs": [],
   "source": [
    "'''Q10. Explain the difference between covariance and correlation. How are these measures used in\n",
    "statistical analysis?'''\n",
    "'''ANS. Covariance shows you how the two variables differ, whereas correlation shows you how the two variables are related'''"
   ]
  },
  {
   "cell_type": "code",
   "execution_count": 12,
   "id": "cb940b1c",
   "metadata": {},
   "outputs": [
    {
     "name": "stderr",
     "output_type": "stream",
     "text": [
      "F:\\Anaconda\\lib\\site-packages\\numpy\\core\\fromnumeric.py:3438: FutureWarning: In a future version, DataFrame.mean(axis=None) will return a scalar mean over the entire DataFrame. To retain the old behavior, use 'frame.mean(axis=0)' or just 'frame.mean()'\n",
      "  return mean(axis=axis, dtype=dtype, out=out, **kwargs)\n",
      "F:\\Anaconda\\lib\\site-packages\\numpy\\core\\fromnumeric.py:3438: FutureWarning: Dropping of nuisance columns in DataFrame reductions (with 'numeric_only=None') is deprecated; in a future version this will raise TypeError.  Select only valid columns before calling the reduction.\n",
      "  return mean(axis=axis, dtype=dtype, out=out, **kwargs)\n"
     ]
    },
    {
     "data": {
      "text/plain": [
       "survived       0.383838\n",
       "pclass         2.308642\n",
       "age           29.699118\n",
       "sibsp          0.523008\n",
       "parch          0.381594\n",
       "fare          32.204208\n",
       "adult_male     0.602694\n",
       "alone          0.602694\n",
       "dtype: float64"
      ]
     },
     "execution_count": 12,
     "metadata": {},
     "output_type": "execute_result"
    }
   ],
   "source": [
    "'''Q11. What is the formula for calculating the sample mean? Provide an example calculation for a\n",
    "dataset.'''\n",
    "import numpy as np \n",
    "import pandas as pd\n",
    "df = pd.read_csv('titanic.csv')\n",
    "df_mean = np.mean(df)\n",
    "df_mean"
   ]
  },
  {
   "cell_type": "code",
   "execution_count": null,
   "id": "21795279",
   "metadata": {},
   "outputs": [],
   "source": [
    "'''Q12. For a normal distribution data what is the relationship between its measure of central tendency?'''\n",
    "'''ANS. Any normal distribution has a graph that is perfectly symmetric about a vertical line through its peak. Therefore,\n",
    "all measures of central tendency (most commonly, the mean, median, and mode) give the same answer: the x -value of the peak'''"
   ]
  },
  {
   "cell_type": "code",
   "execution_count": null,
   "id": "2c3f6643",
   "metadata": {},
   "outputs": [],
   "source": [
    "'''Q13. How is covariance different from correlation?'''\n",
    "'''Covariance shows you how the two variables differ, whereas correlation shows you how the two variables are related'''"
   ]
  },
  {
   "cell_type": "code",
   "execution_count": 13,
   "id": "b603a14e",
   "metadata": {},
   "outputs": [
    {
     "name": "stdout",
     "output_type": "stream",
     "text": [
      "3.0\n",
      "13.777777777777779\n"
     ]
    }
   ],
   "source": [
    "'''Q14. How do outliers affect measures of central tendency and dispersion? Provide an example.'''\n",
    "'''ANS. Outliers Measures of central tendency and dispersion can give misleading impressions of a data set if the set contains\n",
    "one or more outliers. An outlier is a value that is much greater than or much less than most of the other values in a data set.\n",
    "eg. here '100' is a outlier'''\n",
    "import numpy as np \n",
    "import scipy as stats\n",
    "a = [1,2,3,4,5,3,4,2]\n",
    "a_outlier = [1,2,3,4,5,3,4,2,100]\n",
    "print(np.mean(a))\n",
    "print(np.mean(a_outlier))"
   ]
  },
  {
   "cell_type": "code",
   "execution_count": null,
   "id": "d7a26cf3",
   "metadata": {},
   "outputs": [],
   "source": []
  }
 ],
 "metadata": {
  "kernelspec": {
   "display_name": "Python 3 (ipykernel)",
   "language": "python",
   "name": "python3"
  },
  "language_info": {
   "codemirror_mode": {
    "name": "ipython",
    "version": 3
   },
   "file_extension": ".py",
   "mimetype": "text/x-python",
   "name": "python",
   "nbconvert_exporter": "python",
   "pygments_lexer": "ipython3",
   "version": "3.9.13"
  }
 },
 "nbformat": 4,
 "nbformat_minor": 5
}
