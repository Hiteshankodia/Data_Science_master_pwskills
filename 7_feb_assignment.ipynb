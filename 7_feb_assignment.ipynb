{
 "cells": [
  {
   "cell_type": "code",
   "execution_count": 31,
   "id": "bf0dad89",
   "metadata": {},
   "outputs": [
    {
     "name": "stdout",
     "output_type": "stream",
     "text": [
      "Enter the Password23213\n",
      "Invalid Password\n"
     ]
    }
   ],
   "source": [
    "'''Note: 1. The Password should contain at least two uppercase letters and at least two lowercase letters.\n",
    "2. The Password should contain at least a number and three special characters.\n",
    "3. The length of the password should be 10 characters long.'''\n",
    "\n",
    "a = input(\"Enter the Password\")\n",
    "u_count = 0\n",
    "l_count = 0 \n",
    "i_count = 0\n",
    "s_count = 0 \n",
    "s = '[@_!#$%^&*()<>?/\\|{}~:]'\n",
    "length = len(a)\n",
    "for i in a:\n",
    "    if i.upper() == i and i.isalpha():\n",
    "        u_count += 1\n",
    "    elif i.lower() == i and i.isalpha():\n",
    "        l_count +=1 \n",
    "    elif type(i) == int:\n",
    "        i_count += 1\n",
    "    elif i in s:\n",
    "        s_count += 1\n",
    "if ((length == 10) and (s_count == 3) and (i_count >=0) and (u_count>=2) and (l_count >= 2)):\n",
    "    print(\"Valid Password\")\n",
    "else:\n",
    "    print(\"Invalid Password\")\n",
    "\n",
    "    "
   ]
  },
  {
   "cell_type": "code",
   "execution_count": 29,
   "id": "70699622",
   "metadata": {},
   "outputs": [
    {
     "name": "stdout",
     "output_type": "stream",
     "text": [
      "H\n",
      "I\n"
     ]
    }
   ],
   "source": [
    "#a) Check if the string starts with a particular letter \n"
   ]
  },
  {
   "cell_type": "code",
   "execution_count": 57,
   "id": "24234bc4",
   "metadata": {},
   "outputs": [
    {
     "name": "stdout",
     "output_type": "stream",
     "text": [
      "True\n"
     ]
    }
   ],
   "source": [
    "# Check if the string is numeric\n",
    "a = \"122343243\"\n",
    "a = list(map(lambda x : type(int(x)) == int, a))\n",
    "\n",
    "if False in a:\n",
    "    False\n",
    "else:\n",
    "    print(True)  "
   ]
  },
  {
   "cell_type": "code",
   "execution_count": 65,
   "id": "4ae557a3",
   "metadata": {},
   "outputs": [
    {
     "name": "stdout",
     "output_type": "stream",
     "text": [
      "[('orange', 80), ('mango', 99), ('grapes', 1000)]\n"
     ]
    }
   ],
   "source": [
    "#Sort a list of tuples having fruit names and their quantity. [(\"mango\",99),(\"orange\",80), (\"grapes\", 1000)]\n",
    "a = [(\"mango\",99),(\"orange\",80), (\"grapes\", 1000)]\n",
    "b = []\n",
    "for i in a:\n",
    "    b.append(i[::-1])\n",
    "b.sort()\n",
    "c = []\n",
    "for i in b:\n",
    "    c.append(i[::-1])\n",
    "print(c)    "
   ]
  },
  {
   "cell_type": "code",
   "execution_count": 36,
   "id": "8ecdb79b",
   "metadata": {},
   "outputs": [
    {
     "name": "stdout",
     "output_type": "stream",
     "text": [
      "[1, 4, 9, 16, 25, 36, 49, 64, 81, 100]\n"
     ]
    }
   ],
   "source": [
    "#Find the squares of numbers from 1 to 10\n",
    "a = []\n",
    "for i in range(1,11):\n",
    "    a.append(i)\n",
    "result = list(map(lambda x : x**2 , a))\n",
    "print(result)"
   ]
  },
  {
   "cell_type": "code",
   "execution_count": 37,
   "id": "d84fe00a",
   "metadata": {},
   "outputs": [
    {
     "name": "stdout",
     "output_type": "stream",
     "text": [
      "[1, 8, 27, 64, 125, 216, 343, 512, 729, 1000]\n"
     ]
    }
   ],
   "source": [
    "#Find the cube root of numbers from 1 to 10\n",
    "a = []\n",
    "for i in range(1,11):\n",
    "    a.append(i)\n",
    "result = list(map(lambda x : x**3 , a))\n",
    "print(result)"
   ]
  },
  {
   "cell_type": "code",
   "execution_count": 48,
   "id": "f32d9aa6",
   "metadata": {},
   "outputs": [
    {
     "data": {
      "text/plain": [
       "[2, 4, 6, 8, 10]"
      ]
     },
     "execution_count": 48,
     "metadata": {},
     "output_type": "execute_result"
    }
   ],
   "source": [
    "#Check if a given number is even\n",
    "list(filter(lambda x : x%2 == 0, a))"
   ]
  },
  {
   "cell_type": "code",
   "execution_count": 59,
   "id": "f9143289",
   "metadata": {},
   "outputs": [
    {
     "data": {
      "text/plain": [
       "[1, 3, 5, 7, 9]"
      ]
     },
     "execution_count": 59,
     "metadata": {},
     "output_type": "execute_result"
    }
   ],
   "source": [
    "#Filter odd numbers from the given list.\n",
    "a = [1,2,3,4,5,6,7,8,9,10]\n",
    "list(filter(lambda x: x%2 == 1, a))"
   ]
  },
  {
   "cell_type": "code",
   "execution_count": 60,
   "id": "9f0a3f8e",
   "metadata": {},
   "outputs": [
    {
     "data": {
      "text/plain": [
       "[1, 2, 3, 4, 5, 6]"
      ]
     },
     "execution_count": 60,
     "metadata": {},
     "output_type": "execute_result"
    }
   ],
   "source": [
    "#Sort a list of integers into positive and negative integers lists.\n",
    "#[1,2,3,4,5,6,-1,-2,-3,-4,-5,0]\n",
    "b = [1,2,3,4,5,6,-1,-2,-3,-4,-5,0]\n",
    "list(filter(lambda x: x>0 , b))\n"
   ]
  }
 ],
 "metadata": {
  "kernelspec": {
   "display_name": "Python 3 (ipykernel)",
   "language": "python",
   "name": "python3"
  },
  "language_info": {
   "codemirror_mode": {
    "name": "ipython",
    "version": 3
   },
   "file_extension": ".py",
   "mimetype": "text/x-python",
   "name": "python",
   "nbconvert_exporter": "python",
   "pygments_lexer": "ipython3",
   "version": "3.9.12"
  }
 },
 "nbformat": 4,
 "nbformat_minor": 5
}
