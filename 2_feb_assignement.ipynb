{
 "cells": [
  {
   "cell_type": "markdown",
   "id": "3f43e010",
   "metadata": {},
   "source": [
    "Q1. What are the characteristics of the tuples? Is tuple immutable? \n",
    "ans. Tuples are indexed, ordered , immutable, can contain duplicate items. \n",
    "Yes, Tuples are immutable "
   ]
  },
  {
   "cell_type": "code",
   "execution_count": 8,
   "id": "43236431",
   "metadata": {},
   "outputs": [
    {
     "name": "stdout",
     "output_type": "stream",
     "text": [
      "1\n",
      "2\n"
     ]
    }
   ],
   "source": [
    "#Q2. What are the two tuple methods in python? Give an example of each method. Give a reason why\n",
    "#tuples have only two in-built methods as compared to Lists. \n",
    "#Ans. The Two tuple methods are count() and index(). Because tuples are immutable and lists are mutable thats why tuples have only 2 build in function. \n",
    "#eg \n",
    "a = (1,2,3,4,5)\n",
    "print(a.count(4))\n",
    "print(a.index(3))"
   ]
  },
  {
   "cell_type": "code",
   "execution_count": 10,
   "id": "f11a9a46",
   "metadata": {},
   "outputs": [
    {
     "data": {
      "text/plain": [
       "{1, 2, 3, 4}"
      ]
     },
     "execution_count": 10,
     "metadata": {},
     "output_type": "execute_result"
    }
   ],
   "source": [
    "#Q3. Which collection datatypes in python do not allow duplicate items? Write a code using a set to remove\n",
    "#duplicates from the given list.\n",
    "#List = [1, 1, 1, 2, 1, 3, 1, 4, 2, 1, 2, 2, 2, 3, 2, 4, 3, 1, 3, 2, 3, 3, 3, 4, 4, 1, 4, 2, 4, 3, 4, 4]\n",
    "#Ans. The 'Set' data type donsent allow duplitcates.  \n",
    "List = [1, 1, 1, 2, 1, 3, 1, 4, 2, 1, 2, 2, 2, 3, 2, 4, 3, 1, 3, 2, 3, 3, 3, 4, 4, 1, 4, 2, 4, 3, 4, 4] \n",
    "List = set(List)\n",
    "List"
   ]
  },
  {
   "cell_type": "code",
   "execution_count": 19,
   "id": "00320b1a",
   "metadata": {},
   "outputs": [
    {
     "name": "stdout",
     "output_type": "stream",
     "text": [
      "{1, 2, 3, 4, 5, 6, 7, 8, 9}\n",
      "None\n"
     ]
    }
   ],
   "source": [
    "#4. Q4. Explain the difference between the union() and update() methods for a set. Give an example of\n",
    "#each method.\n",
    "#Ans. Union is a set operation or funstion in python. union function gives result as all unique items in both the sets Eg. \n",
    "a = {1,2,3,4,5}\n",
    "b = {3,4,5,6,7,8,9}\n",
    "print(a.union(b))\n",
    "#update function update function updates the set with new items  \n",
    "c = a.update(b)\n",
    "print(c)"
   ]
  },
  {
   "cell_type": "code",
   "execution_count": 29,
   "id": "c572b6a1",
   "metadata": {},
   "outputs": [
    {
     "name": "stdout",
     "output_type": "stream",
     "text": [
      "hitesh\n"
     ]
    }
   ],
   "source": [
    "#Q5. What is a dictionary? Give an example. Also, state whether a dictionary is ordered or unordered.\n",
    "#dictionary are key value pairs. \n",
    "#Eg. \n",
    "a = {'1':'hitesh', '2':'Tanay'}\n",
    "print(a['1'])\n",
    "#Dictionaries are unorderd "
   ]
  },
  {
   "cell_type": "code",
   "execution_count": 30,
   "id": "ee666e0e",
   "metadata": {},
   "outputs": [
    {
     "name": "stdout",
     "output_type": "stream",
     "text": [
      "{'a': ' hitesh', 'b': 'Ankodia'}\n"
     ]
    }
   ],
   "source": [
    "#Q6. Can we create a nested dictionary? If so, please give an example by creating a simple one-level\n",
    "#nested dictionary.\n",
    "#Yes, We can create a nested Dictionary in python \n",
    "b = {1:{'a' : ' hitesh' , 'b' : \"Ankodia\"}}\n",
    "print(b[1])"
   ]
  },
  {
   "cell_type": "code",
   "execution_count": 40,
   "id": "2cb8b61b",
   "metadata": {},
   "outputs": [
    {
     "ename": "TypeError",
     "evalue": "setdefault expected at most 2 arguments, got 3",
     "output_type": "error",
     "traceback": [
      "\u001b[1;31m---------------------------------------------------------------------------\u001b[0m",
      "\u001b[1;31mTypeError\u001b[0m                                 Traceback (most recent call last)",
      "Input \u001b[1;32mIn [40]\u001b[0m, in \u001b[0;36m<cell line: 5>\u001b[1;34m()\u001b[0m\n\u001b[0;32m      1\u001b[0m \u001b[38;5;66;03m#Q7. Using setdefault() method, create key named topics in the given dictionary and also add the value of\u001b[39;00m\n\u001b[0;32m      2\u001b[0m \u001b[38;5;66;03m#the key as this list ['Python', 'Machine Learning’, 'Deep Learning']\u001b[39;00m\n\u001b[0;32m      3\u001b[0m \u001b[38;5;66;03m#dict1 = {'language' : 'Python', 'course': 'Data Science Masters'}\u001b[39;00m\n\u001b[0;32m      4\u001b[0m dict1 \u001b[38;5;241m=\u001b[39m {\u001b[38;5;124m'\u001b[39m\u001b[38;5;124mlanguage\u001b[39m\u001b[38;5;124m'\u001b[39m : \u001b[38;5;124m'\u001b[39m\u001b[38;5;124mPython\u001b[39m\u001b[38;5;124m'\u001b[39m, \u001b[38;5;124m'\u001b[39m\u001b[38;5;124mcourse\u001b[39m\u001b[38;5;124m'\u001b[39m: \u001b[38;5;124m'\u001b[39m\u001b[38;5;124mData Science Masters\u001b[39m\u001b[38;5;124m'\u001b[39m}\n\u001b[1;32m----> 5\u001b[0m x \u001b[38;5;241m=\u001b[39m \u001b[43mdict1\u001b[49m\u001b[38;5;241;43m.\u001b[39;49m\u001b[43msetdefault\u001b[49m\u001b[43m(\u001b[49m\u001b[38;5;124;43m'\u001b[39;49m\u001b[38;5;124;43mPython\u001b[39;49m\u001b[38;5;124;43m'\u001b[39;49m\u001b[43m,\u001b[49m\u001b[43m \u001b[49m\u001b[38;5;124;43m'\u001b[39;49m\u001b[38;5;124;43mMachine Learning\u001b[39;49m\u001b[38;5;124;43m'\u001b[39;49m\u001b[43m,\u001b[49m\u001b[38;5;124;43m'\u001b[39;49m\u001b[38;5;124;43mDeep Learning\u001b[39;49m\u001b[38;5;124;43m'\u001b[39;49m\u001b[43m)\u001b[49m\n\u001b[0;32m      6\u001b[0m x\n",
      "\u001b[1;31mTypeError\u001b[0m: setdefault expected at most 2 arguments, got 3"
     ]
    }
   ],
   "source": [
    "#Q7. Using setdefault() method, create key named topics in the given dictionary and also add the value of\n",
    "#the key as this list ['Python', 'Machine Learning’, 'Deep Learning']\n",
    "#dict1 = {'language' : 'Python', 'course': 'Data Science Masters'}\n",
    "dict1 = {'language' : 'Python', 'course': 'Data Science Masters'}\n",
    "x = dict1.setdefault('Python', 'Machine Learning','Deep Learning')\n",
    "x"
   ]
  },
  {
   "cell_type": "code",
   "execution_count": 45,
   "id": "f24251f9",
   "metadata": {},
   "outputs": [
    {
     "name": "stdout",
     "output_type": "stream",
     "text": [
      "dict_values(['Cricket', ['India', 'Australia', 'England', 'South Africa', 'Sri Lanka', 'New Zealand']])\n",
      "dict_keys(['Sport', 'Teams'])\n",
      "{'Sport': 'Cricket', 'Teams': ['India', 'Australia', 'England', 'South Africa', 'Sri Lanka', 'New Zealand']}\n"
     ]
    }
   ],
   "source": [
    "#Q8. What are the three view objects in dictionaries? Use the three in-built methods in python to display\n",
    "#these three view objects for the given dictionary.\n",
    "#dict1 = {'Sport': 'Cricket' , 'Teams': ['India', 'Australia', 'England', 'South Africa', 'Sri Lanka', 'New Zealand']}\n",
    "#Ans. Three view objects in dictonaries are Key, Value, Pair. \n",
    "dict1 = {'Sport': 'Cricket' , 'Teams': ['India', 'Australia', 'England', 'South Africa', 'Sri Lanka', 'New Zealand']} \n",
    "print(dict1.values())\n",
    "print(dict1.keys())\n",
    "print(dict1)"
   ]
  }
 ],
 "metadata": {
  "kernelspec": {
   "display_name": "Python 3 (ipykernel)",
   "language": "python",
   "name": "python3"
  },
  "language_info": {
   "codemirror_mode": {
    "name": "ipython",
    "version": 3
   },
   "file_extension": ".py",
   "mimetype": "text/x-python",
   "name": "python",
   "nbconvert_exporter": "python",
   "pygments_lexer": "ipython3",
   "version": "3.9.12"
  }
 },
 "nbformat": 4,
 "nbformat_minor": 5
}
