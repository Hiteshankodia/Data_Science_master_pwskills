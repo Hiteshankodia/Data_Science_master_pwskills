{
 "cells": [
  {
   "cell_type": "code",
   "execution_count": 1,
   "id": "36eb9aec",
   "metadata": {},
   "outputs": [
    {
     "data": {
      "text/plain": [
       "[1, 3, 5, 7, 9, 11, 13, 15, 17, 19, 21, 23, 25]"
      ]
     },
     "execution_count": 1,
     "metadata": {},
     "output_type": "execute_result"
    }
   ],
   "source": [
    "'''Q1. Which keyword is used to create a function? Create a function to return a list of odd numbers in the\n",
    "range of 1 to 25.'''\n",
    "\n",
    "#- 'def' keyword is used create the function. \n",
    "a = []\n",
    "def odd_num():\n",
    "    for i in range(26):\n",
    "        if i % 2 ==1 :\n",
    "            a.append(i)\n",
    "    return a \n",
    "odd_num()    \n"
   ]
  },
  {
   "cell_type": "code",
   "execution_count": 1,
   "id": "15f6faaf",
   "metadata": {},
   "outputs": [
    {
     "name": "stdout",
     "output_type": "stream",
     "text": [
      "Hello\n",
      "Welcome\n",
      "to\n",
      "GeeksforGeeks\n",
      "first == Geeks\n",
      "mid == for\n",
      "last == Geeks\n"
     ]
    }
   ],
   "source": [
    "'''Q2. Why *args and **kwargs is used in some functions? Create a function each for *args and **kwargs to\n",
    "demonstrate their use.'''\n",
    "\n",
    "# '*args' are used when we want to take take input as a parameter without a limit. the number of arguments are not not defined and you can take as many args as you want. \n",
    "def myFun(*argv):\n",
    "    for arg in argv:\n",
    "        print(arg)\n",
    "  \n",
    "  \n",
    "myFun('Hello', 'Welcome', 'to', 'GeeksforGeeks')\n",
    "# **kwags - One can think of the kwargs as being a dictionary that maps each keyword to the value that we pass alongside it. That is why when we iterate over the kwargs there doesn’t seem to be any order in which they were printed out.\n",
    "def myFun(**kwargs):\n",
    "    for key, value in kwargs.items():\n",
    "        print(\"%s == %s\" % (key, value))\n",
    "  \n",
    "  \n",
    "# Driver code\n",
    "myFun(first='Geeks', mid='for', last='Geeks')"
   ]
  },
  {
   "cell_type": "code",
   "execution_count": 3,
   "id": "80a546ce",
   "metadata": {},
   "outputs": [
    {
     "name": "stdout",
     "output_type": "stream",
     "text": [
      "2\n",
      "4\n",
      "6\n",
      "8\n"
     ]
    }
   ],
   "source": [
    "'''Q3. What is an iterator in python? Name the method used to initialise the iterator object and the method\n",
    "used for iteration. Use these methods to print the first five elements of the given list [2, 4, 6, 8, 10, 12, 14, 16,\n",
    "18, 20].'''\n",
    "#iterator are to iterate over items of a given list, string,  etc one by one in a a linear mannner. \n",
    "#'iter' is the method used to initialise the iterator object and 'next()' is the method used for iteration. \n",
    "a = [2, 4, 6, 8, 10, 12, 14, 16, 18, 20]\n",
    "ch_iterator = iter(a)\n",
    " \n",
    "print(next(ch_iterator))\n",
    "print(next(ch_iterator))\n",
    "print(next(ch_iterator))\n",
    "print(next(ch_iterator))\n",
    "print(next(ch_iterator))"
   ]
  },
  {
   "cell_type": "code",
   "execution_count": null,
   "id": "fbf0cde4",
   "metadata": {},
   "outputs": [],
   "source": [
    "'''Q4. What is a generator function in python? Why yield keyword is used? Give an example of a generator\n",
    "function.'''\n",
    "#A Python generator function allows you to declare a function that behaves like an iterator,\n",
    "#providing a faster and easier way to create iterators.\n",
    "# yield keyword is used to create a generator function.\n",
    "squares_generator = (i * i for i in range(5))\n",
    "\n",
    "# iterate over the generator and print the values\n",
    "for i in squares_generator:\n",
    "    print(i)"
   ]
  },
  {
   "cell_type": "code",
   "execution_count": null,
   "id": "3e887be0",
   "metadata": {},
   "outputs": [],
   "source": [
    "'''Q5. Create a generator function for prime numbers less than 1000. Use the next() method to print the\n",
    "first 20 prime numbers.'''\n",
    "\n",
    "\n",
    "\n"
   ]
  }
 ],
 "metadata": {
  "kernelspec": {
   "display_name": "Python 3 (ipykernel)",
   "language": "python",
   "name": "python3"
  },
  "language_info": {
   "codemirror_mode": {
    "name": "ipython",
    "version": 3
   },
   "file_extension": ".py",
   "mimetype": "text/x-python",
   "name": "python",
   "nbconvert_exporter": "python",
   "pygments_lexer": "ipython3",
   "version": "3.9.12"
  }
 },
 "nbformat": 4,
 "nbformat_minor": 5
}
