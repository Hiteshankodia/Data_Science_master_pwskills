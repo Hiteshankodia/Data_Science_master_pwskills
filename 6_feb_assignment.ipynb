{
 "cells": [
  {
   "cell_type": "code",
   "execution_count": 19,
   "id": "8c7b682b",
   "metadata": {},
   "outputs": [
    {
     "name": "stdout",
     "output_type": "stream",
     "text": [
      "[1, 2, 3, 4, [44, 55, 66, True], False, (34, 56, 78, 89, 34), {1, 2, 3}, {1: 34, 'key2': [55, 67, 78, 89], 4: (45, 22, 61, 34)}, [56, 'data science'], 'Machine Learning']\n",
      "1\n"
     ]
    }
   ],
   "source": [
    "'''Q1. Create a function which will take a list as an argument and return the product of all the numbers\n",
    "after creating a flat list.\n",
    "Use the below-given list as an argument for your function.\n",
    "list1 = [1,2,3,4, [44,55,66, True], False, (34,56,78,89,34), {1,2,3,3,2,1}, {1:34, \"key2\": [55, 67, 78, 89], 4: (45,\n",
    "22, 61, 34)}, [56, 'data science'], 'Machine Learning']\n",
    "Note: you must extract numeric keys and values of the dictionary also.'''\n",
    "list1 = [1,2,3,4, [44,55,66, True], False, (34,56,78,89,34), {1,2,3,3,2,1}, {1:34, \"key2\": [55, 67, 78, 89], 4: (45,\n",
    "22, 61, 34)}, [56, 'data science'], 'Machine Learning']\n",
    "\n",
    "product = 1\n",
    "def fun(list2):\n",
    "    for i in list2:\n",
    "        if type(i) == int:\n",
    "            product *= i\n",
    "        elif type(i) == list:\n",
    "            for j in i:\n",
    "                if type(j) == int:\n",
    "                    product *= j\n",
    "        elif type(i) == tuple:\n",
    "            for j in i:\n",
    "                if type(j) == int:\n",
    "                    product *= j\n",
    "        \n",
    "        elif type(i) == dict:\n",
    "            for i in list1:\n",
    "                if i == int:\n",
    "                    product *= i \n",
    "                    a = list1.values()\n",
    "                    for j in a:\n",
    "                        if j == int:\n",
    "                             product *= i\n",
    "                        elif j == list:\n",
    "                            for i in j:\n",
    "                                if j == int:\n",
    "                                    product *= i \n",
    "                        elif j == list:\n",
    "                            for i in j:\n",
    "                                if j == int:\n",
    "                                    product *= i\n",
    "print(list2)\n",
    "print(product)"
   ]
  },
  {
   "cell_type": "code",
   "execution_count": 27,
   "id": "bf221cfe",
   "metadata": {},
   "outputs": [
    {
     "data": {
      "text/plain": [
       "'r$dzmg$gl$yvxlnv$z$wzgz$hxrvmgrhg'"
      ]
     },
     "execution_count": 27,
     "metadata": {},
     "output_type": "execute_result"
    }
   ],
   "source": [
    "'''Q2. Write a python program for encrypting a message sent to you by your friend. The logic of encryption\n",
    "should be such that, for a the output should be z. For b, the output should be y. For c, the output should\n",
    "be x respectively. Also, the whitespace should be replaced with a dollar sign. Keep the punctuation\n",
    "marks unchanged.\n",
    "Input Sentence: I want to become a Data Scientist.\n",
    "Encrypt the above input sentence using the program you just created.\n",
    "Note: Convert the given input sentence into lowercase before encrypting. The final output should be\n",
    "lowercase.'''\n",
    "\n",
    "Text = \"I want to become a Data Scientist\"\n",
    "text = Text.lower()\n",
    "new_text = ''\n",
    "s = 0\n",
    "for i in text:\n",
    "    if i == \" \":\n",
    "        new_text += \"$\"\n",
    "    elif i == \".\":\n",
    "        pass\n",
    "    else:\n",
    "        s = ord('a') + ord('z') - ord(i)\n",
    "        new_text += chr(s) \n",
    "\n",
    "new_text\n",
    "\n",
    "\n",
    "\n",
    "\n",
    "\n"
   ]
  }
 ],
 "metadata": {
  "kernelspec": {
   "display_name": "Python 3 (ipykernel)",
   "language": "python",
   "name": "python3"
  },
  "language_info": {
   "codemirror_mode": {
    "name": "ipython",
    "version": 3
   },
   "file_extension": ".py",
   "mimetype": "text/x-python",
   "name": "python",
   "nbconvert_exporter": "python",
   "pygments_lexer": "ipython3",
   "version": "3.9.12"
  }
 },
 "nbformat": 4,
 "nbformat_minor": 5
}
