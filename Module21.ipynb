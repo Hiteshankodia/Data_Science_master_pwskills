{
 "cells": [
  {
   "cell_type": "markdown",
   "id": "58cbeab9-b11e-4f5c-a3ab-ee71cbe74707",
   "metadata": {},
   "source": [
    "Q1. Wha\n",
    "t i \n",
    "n cx,eption iny\r\n",
    "\r\n",
    "thon? Write the diffcrebn,e etweec Ex,ept aonsand syndax errors in python ? \n",
    "\n",
    "In Python, an exception is an event that disrupts the normal flow of a program's execution. It indicates that something went wrong during the program's execution. Exceptions are a way to handle errors and unexpected conditions in a controlled manner, allowing the program to continue running or terminate gracefully.\n",
    "\n",
    "Aspect\tExceptions\tSyntax Errors\n",
    "Definition\tExceptions are runtime errors that occur during the execution of a program.\tSyntax errors are mistakes in the structure of the code that prevent it from being parsed.\n",
    "Occurrence\tExceptions occur during the execution of a program, often due to invalid operations or conditions.\tSyntax errors occur when the Python interpreter cannot parse the code because it does not conform to the language's rules.\n",
    "Detection\tDetected during program execution.\tDetected during the compilation or parsing stage before execution begins.\n",
    "Example\tTrying to divide by zero (10 / 0) or accessing an undefined variable.\tMissing a colon (if x > 5 print(x)) or incorrect indentation.\n",
    "Handling\tCan be handled using try, except, else, and finally blocks.\tMust be corrected in the code before execution.\n",
    "Impact\tCan be caught and managed to prevent the program from crashing.\tPrevents the code from running at all until corrected.\n",
    "Example Code\tpython try: \\n result = 10 / 0 \\n except ZeroDivisionError: \\n print(\"Error!\")\tpython if x > 5 print(x) \\n # Missing colon will cause a SyntaxError"
   ]
  },
  {
   "cell_type": "code",
   "execution_count": null,
   "id": "11abeda6-ec0d-4b4f-a5a3-303d15f6db1a",
   "metadata": {},
   "outputs": [],
   "source": []
  },
  {
   "cell_type": "code",
   "execution_count": 2,
   "id": "ecf8faa4-7447-49a5-a009-82c587c3beb1",
   "metadata": {},
   "outputs": [
    {
     "ename": "ZeroDivisionError",
     "evalue": "division by zero",
     "output_type": "error",
     "traceback": [
      "\u001b[1;31m---------------------------------------------------------------------------\u001b[0m",
      "\u001b[1;31mZeroDivisionError\u001b[0m                         Traceback (most recent call last)",
      "Cell \u001b[1;32mIn[2], line 13\u001b[0m\n\u001b[0;32m     10\u001b[0m     \u001b[38;5;28;01mreturn\u001b[39;00m a \u001b[38;5;241m/\u001b[39m b\n\u001b[0;32m     12\u001b[0m \u001b[38;5;66;03m# This will raise an exception because division by zero is not allowed\u001b[39;00m\n\u001b[1;32m---> 13\u001b[0m result \u001b[38;5;241m=\u001b[39m divide_numbers(\u001b[38;5;241m10\u001b[39m, \u001b[38;5;241m0\u001b[39m)\n\u001b[0;32m     14\u001b[0m \u001b[38;5;28mprint\u001b[39m(\u001b[38;5;124mf\u001b[39m\u001b[38;5;124m\"\u001b[39m\u001b[38;5;124mResult is \u001b[39m\u001b[38;5;132;01m{\u001b[39;00mresult\u001b[38;5;132;01m}\u001b[39;00m\u001b[38;5;124m\"\u001b[39m)\n",
      "Cell \u001b[1;32mIn[2], line 10\u001b[0m, in \u001b[0;36mdivide_numbers\u001b[1;34m(a, b)\u001b[0m\n\u001b[0;32m      9\u001b[0m \u001b[38;5;28;01mdef\u001b[39;00m \u001b[38;5;21mdivide_numbers\u001b[39m(a, b):\n\u001b[1;32m---> 10\u001b[0m     \u001b[38;5;28;01mreturn\u001b[39;00m a \u001b[38;5;241m/\u001b[39m b\n",
      "\u001b[1;31mZeroDivisionError\u001b[0m: division by zero"
     ]
    }
   ],
   "source": [
    "#Q3) Which happends when a n execution is not handled? Explian with an example\n",
    "\n",
    "#When the exception in not handled it shows the error. or the if we have a else block it goes into the else and return us the \n",
    "#else block content. \n",
    "#So there can be program termination, loss of data. \n",
    "\n",
    "#Eg. \n",
    "\n",
    "def divide_numbers(a, b):\n",
    "    return a / b\n",
    "\n",
    "# This will raise an exception because division by zero is not allowed\n",
    "result = divide_numbers(10, 0)\n",
    "print(f\"Result is {result}\")\n"
   ]
  },
  {
   "cell_type": "code",
   "execution_count": 4,
   "id": "c6ddf43e-4279-4a45-987c-8f9e444e56cb",
   "metadata": {},
   "outputs": [
    {
     "name": "stdout",
     "output_type": "stream",
     "text": [
      "Result of division is 5.0\n",
      "Error: Cannot divide by zero!\n"
     ]
    }
   ],
   "source": [
    "#Q4) Explain with an example - a) try and else b) finally  c) raise\n",
    "\n",
    "#a) \n",
    "def divide_numbers(a, b):\n",
    "    try:\n",
    "        result = a / b\n",
    "    except ZeroDivisionError:\n",
    "        print(\"Error: Cannot divide by zero!\")\n",
    "    else:\n",
    "        # This block runs only if no exception occurs\n",
    "        print(f\"Result of division is {result}\")\n",
    "\n",
    "# Test the function\n",
    "divide_numbers(10, 2)  # This will succeed\n",
    "divide_numbers(10, 0)"
   ]
  },
  {
   "cell_type": "code",
   "execution_count": 7,
   "id": "6d7d8f24-d4e7-497b-902f-7febd9198a25",
   "metadata": {},
   "outputs": [
    {
     "name": "stdout",
     "output_type": "stream",
     "text": [
      "File closed.\n"
     ]
    },
    {
     "data": {
      "text/plain": [
       "'The finally block is used to define code that will run no matter what, whether an exception was raised or not. This is useful for cleanup actions that must always be performed, such as closing files or releasing resources.'"
      ]
     },
     "execution_count": 7,
     "metadata": {},
     "output_type": "execute_result"
    }
   ],
   "source": [
    "def file_operations():\n",
    "    try:\n",
    "        file = open('example.txt', 'w')\n",
    "        file.write('Hello, World!')\n",
    "    except IOError as e:\n",
    "        print(f\"An IOError occurred: {e}\")\n",
    "    finally:\n",
    "        # This block is always executed\n",
    "        file.close()\n",
    "        print(\"File closed.\")\n",
    "\n",
    "# Test the function\n",
    "file_operations()\n",
    "'''The finally block is used to define code that will run no matter what, whether an exception was raised or not. This is useful for cleanup actions that must always be performed, such as closing files or releasing resources.'''"
   ]
  },
  {
   "cell_type": "markdown",
   "id": "60ea44e5-e222-4282-a7c7-2808c4dd0bfb",
   "metadata": {},
   "source": [
    "#c \n",
    "c) raise\n",
    "The raise statement is used to explicitly raise an exception. This can be used to signal that an error condition has occurred or to re-raise an exception after catching it."
   ]
  },
  {
   "cell_type": "code",
   "execution_count": 9,
   "id": "98629d86-b613-4be6-a318-edc83a770420",
   "metadata": {},
   "outputs": [
    {
     "name": "stdout",
     "output_type": "stream",
     "text": [
      "Exception caught: Age cannot be negative!\n",
      "You are under 18.\n",
      "You are 18 or older.\n"
     ]
    }
   ],
   "source": [
    "def check_age(age):\n",
    "    if age < 0:\n",
    "        raise ValueError(\"Age cannot be negative!\")\n",
    "    elif age < 18:\n",
    "        print(\"You are under 18.\")\n",
    "    else:\n",
    "        print(\"You are 18 or older.\")\n",
    "\n",
    "# Test the function\n",
    "try:\n",
    "    check_age(-1)  # This will raise an exception\n",
    "except ValueError as e:\n",
    "    print(f\"Exception caught: {e}\")\n",
    "\n",
    "check_age(15)  # This will print \"You are under 18.\"\n",
    "check_age(20)  # This will print \"You are 18 or older.\"\n"
   ]
  },
  {
   "cell_type": "code",
   "execution_count": 10,
   "id": "c27e9e6c-2390-4a91-a438-c3af1cb028b5",
   "metadata": {},
   "outputs": [],
   "source": [
    "#Q5 What are custom exceptions in python? Why do we need custom exceptions? Explain with an example"
   ]
  },
  {
   "cell_type": "markdown",
   "id": "449b2a73-1655-47d5-b5de-0f3533bb8c8d",
   "metadata": {},
   "source": [
    "Custom exceptions in Python are user-defined exception classes that extend the built-in Exception class or one of its subclasses. They allow you to create more specific and meaningful error messages tailored to the needs of your application. Custom exceptions provide a way to represent specific error conditions unique to your application logic and can help improve code readability and maintainability.\n",
    "\n",
    "Why Do We Need Custom Exceptions?\n",
    "Clarity: Custom exceptions can make your code more readable by providing more descriptive error messages. They clarify the type of error and the context in which it occurred.\n",
    "\n",
    "Specificity: They allow you to handle different types of errors in different ways. For example, you can have separate exception types for validation errors, configuration errors, or resource not found errors.\n",
    "\n",
    "Encapsulation: Custom exceptions can encapsulate additional information about the error, which can be useful for debugging and logging.\n",
    "\n",
    "Code Organization: Using custom exceptions helps organize error handling in a way that makes it clear what kind of errors your code is designed to handle and how to handle them."
   ]
  },
  {
   "cell_type": "code",
   "execution_count": null,
   "id": "17e6a736-7365-43cd-a6a7-d15d5e84e687",
   "metadata": {},
   "outputs": [],
   "source": [
    "#Create a custom exception class. Use this class to handle an exception\n"
   ]
  }
 ],
 "metadata": {
  "kernelspec": {
   "display_name": "Python 3 (ipykernel)",
   "language": "python",
   "name": "python3"
  },
  "language_info": {
   "codemirror_mode": {
    "name": "ipython",
    "version": 3
   },
   "file_extension": ".py",
   "mimetype": "text/x-python",
   "name": "python",
   "nbconvert_exporter": "python",
   "pygments_lexer": "ipython3",
   "version": "3.11.7"
  }
 },
 "nbformat": 4,
 "nbformat_minor": 5
}
