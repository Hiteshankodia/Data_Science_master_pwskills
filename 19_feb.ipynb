{
 "cells": [
  {
   "cell_type": "markdown",
   "id": "d3c7c77e-070e-42d3-aad6-a85a6ee89413",
   "metadata": {},
   "source": [
    "Q1. Which function is used to open a file? What are the different modes of opening a file? Explain each mode\r\n",
    "of file opening."
   ]
  },
  {
   "cell_type": "markdown",
   "id": "aa9598b7-e4a2-4fce-8e50-557d968f2327",
   "metadata": {},
   "source": [
    "Answer - To Open a File we use a python built in method - open()\n",
    "        eg. - file_object = open('filename', 'mode')\n",
    "\n",
    "The 'mode' argument can be one of the following:\n",
    "\n",
    "'r': Read Mode\n",
    "\n",
    "Description: Opens the file for reading only. The file pointer is placed at the beginning of the file.\n",
    "Behavior: If the file does not exist, it raises a FileNotFoundError.\n",
    "'w': Write Mode\n",
    "\n",
    "Description: Opens the file for writing only. If the file already exists, it truncates (empties) the file first. If the file does not exist, it creates a new file.\n",
    "Behavior: Any existing content in the file is lost when opened in this mode.\n",
    "'a': Append Mode\n",
    "\n",
    "Description: Opens the file for writing, but does not truncate it. The file pointer is placed at the end of the file if it exists, so new data will be written at the end of the file. If the file does not exist, it creates a new file.\n",
    "Behavior: This mode is useful for adding new content to an existing file without altering the existing content."
   ]
  },
  {
   "cell_type": "code",
   "execution_count": null,
   "id": "8cf10cca-5efa-4215-b1b8-f856f5c80486",
   "metadata": {},
   "outputs": [],
   "source": []
  },
  {
   "cell_type": "markdown",
   "id": "0318c750-c23d-4542-94b0-34acfba26120",
   "metadata": {},
   "source": [
    "Q2. Why close() function is used? Why is it important to close a file?\n",
    "\n",
    "Answer - Its important becacuse for following reasons - \n",
    "         1) Release System Resource\n",
    "         2) Flash buffer \n",
    "         3) Prevent data corruption \n",
    "         4) Avoid resource Leak \n"
   ]
  },
  {
   "cell_type": "code",
   "execution_count": null,
   "id": "b3f5a5ac-a8ff-41c8-bb2a-cca61a379096",
   "metadata": {},
   "outputs": [],
   "source": []
  },
  {
   "cell_type": "markdown",
   "id": "f691673b-dff1-4dce-98fc-36d2abff56f2",
   "metadata": {},
   "source": [
    "Q3. Write a python program to create a text file. Write ‘I want to become a Data Scientist’ in that file. Then\n",
    "close the file. Open this file and read the content of the file."
   ]
  },
  {
   "cell_type": "code",
   "execution_count": 4,
   "id": "353a9753-7fb9-4e39-a5b8-ce62b34692dc",
   "metadata": {},
   "outputs": [
    {
     "name": "stdout",
     "output_type": "stream",
     "text": [
      "I want to become a Data Scientist\n"
     ]
    }
   ],
   "source": [
    "# Step 1: Create and write to the file\n",
    "filename = 'data_scientist.txt'\n",
    "\n",
    "# Open the file in write mode, which creates the file if it does not exist\n",
    "with open(filename, 'w') as file:\n",
    "    file.write('I want to become a Data Scientist')\n",
    "\n",
    "# The file is automatically closed when exiting the 'with' block\n",
    "\n",
    "# Step 2: Open the file and read its content\n",
    "with open(filename, 'r') as file:\n",
    "    content = file.read()\n",
    "\n",
    "# Print the content of the file\n",
    "print(content)\n"
   ]
  },
  {
   "cell_type": "code",
   "execution_count": null,
   "id": "eb031c30-a7b4-48a0-b6da-04d26d8152a7",
   "metadata": {},
   "outputs": [],
   "source": []
  },
  {
   "cell_type": "markdown",
   "id": "0e98a248-170e-413b-a53f-f14490c57c2e",
   "metadata": {},
   "source": [
    "Q4. Explain the following with python code: read(), readline() and readlines()."
   ]
  },
  {
   "cell_type": "markdown",
   "id": "ae935630-efde-4728-bbee-f8f2953f4012",
   "metadata": {},
   "source": [
    "read() - The read() method reads the entire content of the file and returns it as a single string.\n",
    "\n",
    "readline() -  reads the whole file content and returns it as a string.\n",
    "\n",
    "readlines() - The readlines() method reads all the lines of the file and returns them as a list of strings. Each string in the list represents a line from the file, including the newline characters.\n",
    "    "
   ]
  },
  {
   "cell_type": "markdown",
   "id": "1b80ab17-7cf9-4f7d-ae50-bc3b835024de",
   "metadata": {},
   "source": [
    "Q5. Explain why with statement is used with open(). What is the advantage of using with statement and\n",
    "open() together?\n",
    "\n",
    "\n",
    "Advantages of Using with Statement with open()\n",
    "Automatic Resource Management:\n",
    "\n",
    "The with statement ensures that resources are properly managed by automatically closing the file when the block inside the with statement is exited, whether it exits normally or due to an exception. This helps to avoid resource leaks.\n",
    "Exception Handling:\n",
    "\n",
    "If an exception occurs within the with block, the with statement ensures that the file is still properly closed. This is critical for preventing file corruption and ensuring that system resources are released properly.\n",
    "Cleaner Code:\n",
    "\n",
    "Using the with statement results in cleaner and more readable code. It eliminates the need to explicitly call close() on the file object, reducing the chance of errors and making the code easier to understand.\n"
   ]
  },
  {
   "cell_type": "code",
   "execution_count": null,
   "id": "4b00ae9f-adab-4491-a340-ed91d4ef543d",
   "metadata": {},
   "outputs": [],
   "source": []
  },
  {
   "cell_type": "markdown",
   "id": "4c1350db-a1a5-4d69-b178-12d334caf68a",
   "metadata": {},
   "source": [
    "Q6. Explain the write() and writelines() functions. Give a suitable example.\n",
    "\n",
    "\n",
    "1. write()\n",
    "The write() method writes a string to the file. If you want to write multiple lines or add newlines, you need to include them explicitly in the string.\n",
    "\n",
    "2. writelines()\n",
    "The writelines() method writes a list of strings to the file. Each string in the list is written to the file without an additional newline unless explicitly included in the strings."
   ]
  },
  {
   "cell_type": "code",
   "execution_count": null,
   "id": "f36778f7-c32a-453a-b9dc-8427ae166ed2",
   "metadata": {},
   "outputs": [],
   "source": []
  },
  {
   "cell_type": "code",
   "execution_count": null,
   "id": "4284913c-f84b-4d14-9246-839eb0bce99a",
   "metadata": {},
   "outputs": [],
   "source": []
  }
 ],
 "metadata": {
  "kernelspec": {
   "display_name": "Python 3 (ipykernel)",
   "language": "python",
   "name": "python3"
  },
  "language_info": {
   "codemirror_mode": {
    "name": "ipython",
    "version": 3
   },
   "file_extension": ".py",
   "mimetype": "text/x-python",
   "name": "python",
   "nbconvert_exporter": "python",
   "pygments_lexer": "ipython3",
   "version": "3.11.7"
  }
 },
 "nbformat": 4,
 "nbformat_minor": 5
}
