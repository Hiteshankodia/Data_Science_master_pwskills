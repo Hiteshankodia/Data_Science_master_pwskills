{
 "cells": [
  {
   "cell_type": "code",
   "execution_count": 6,
   "id": "1a8ea415",
   "metadata": {},
   "outputs": [
    {
     "data": {
      "text/plain": [
       "0     4\n",
       "1     8\n",
       "2    15\n",
       "3    16\n",
       "4    23\n",
       "5    42\n",
       "dtype: int64"
      ]
     },
     "execution_count": 6,
     "metadata": {},
     "output_type": "execute_result"
    }
   ],
   "source": [
    "import pandas as pd \n",
    "#Q1. Create a Pandas Series that contains the following data: 4, 8, 15, 16, 23, and 42. Then, print the series.\n",
    "my_series = pd.Series([4,8,15,16,23,42])\n",
    "my_series"
   ]
  },
  {
   "cell_type": "code",
   "execution_count": 7,
   "id": "8fce3f78",
   "metadata": {},
   "outputs": [
    {
     "data": {
      "text/plain": [
       "0    [1, 2, 3, 4, 5, 6, 7, 8, 9]\n",
       "dtype: object"
      ]
     },
     "execution_count": 7,
     "metadata": {},
     "output_type": "execute_result"
    }
   ],
   "source": [
    "#Q2. Create a variable of list type containing 10 elements in it, and apply pandas.Series function on the\n",
    "#variable print it.\n",
    "a = [1,2,3,4,5,6,7,8,9]\n",
    "series_1 = pd.Series([a])\n",
    "series_1"
   ]
  },
  {
   "cell_type": "code",
   "execution_count": 8,
   "id": "4498c24b",
   "metadata": {},
   "outputs": [
    {
     "data": {
      "text/html": [
       "<div>\n",
       "<style scoped>\n",
       "    .dataframe tbody tr th:only-of-type {\n",
       "        vertical-align: middle;\n",
       "    }\n",
       "\n",
       "    .dataframe tbody tr th {\n",
       "        vertical-align: top;\n",
       "    }\n",
       "\n",
       "    .dataframe thead th {\n",
       "        text-align: right;\n",
       "    }\n",
       "</style>\n",
       "<table border=\"1\" class=\"dataframe\">\n",
       "  <thead>\n",
       "    <tr style=\"text-align: right;\">\n",
       "      <th></th>\n",
       "      <th>Name</th>\n",
       "      <th>Age</th>\n",
       "      <th>Gender</th>\n",
       "    </tr>\n",
       "  </thead>\n",
       "  <tbody>\n",
       "    <tr>\n",
       "      <th>0</th>\n",
       "      <td>Alice</td>\n",
       "      <td>25</td>\n",
       "      <td>Female</td>\n",
       "    </tr>\n",
       "    <tr>\n",
       "      <th>1</th>\n",
       "      <td>Bob</td>\n",
       "      <td>30</td>\n",
       "      <td>Male</td>\n",
       "    </tr>\n",
       "    <tr>\n",
       "      <th>2</th>\n",
       "      <td>Claire</td>\n",
       "      <td>27</td>\n",
       "      <td>Female</td>\n",
       "    </tr>\n",
       "  </tbody>\n",
       "</table>\n",
       "</div>"
      ],
      "text/plain": [
       "     Name  Age  Gender\n",
       "0   Alice   25  Female\n",
       "1     Bob   30    Male\n",
       "2  Claire   27  Female"
      ]
     },
     "execution_count": 8,
     "metadata": {},
     "output_type": "execute_result"
    }
   ],
   "source": [
    "#3\n",
    "data = [[\"Alice\", 25, \"Female\"],[\"Bob\", 30, \"Male\"], ['Claire', 27, 'Female']]\n",
    "df = pd.DataFrame(data , columns = [\"Name\", \"Age\", \"Gender\"])\n",
    "df"
   ]
  },
  {
   "cell_type": "code",
   "execution_count": 13,
   "id": "263c44f8",
   "metadata": {},
   "outputs": [
    {
     "data": {
      "text/html": [
       "<div>\n",
       "<style scoped>\n",
       "    .dataframe tbody tr th:only-of-type {\n",
       "        vertical-align: middle;\n",
       "    }\n",
       "\n",
       "    .dataframe tbody tr th {\n",
       "        vertical-align: top;\n",
       "    }\n",
       "\n",
       "    .dataframe thead th {\n",
       "        text-align: right;\n",
       "    }\n",
       "</style>\n",
       "<table border=\"1\" class=\"dataframe\">\n",
       "  <thead>\n",
       "    <tr style=\"text-align: right;\">\n",
       "      <th></th>\n",
       "      <th>number</th>\n",
       "      <th>name</th>\n",
       "    </tr>\n",
       "  </thead>\n",
       "  <tbody>\n",
       "    <tr>\n",
       "      <th>0</th>\n",
       "      <td>1</td>\n",
       "      <td>hitesh</td>\n",
       "    </tr>\n",
       "    <tr>\n",
       "      <th>1</th>\n",
       "      <td>2</td>\n",
       "      <td>Krishna</td>\n",
       "    </tr>\n",
       "    <tr>\n",
       "      <th>2</th>\n",
       "      <td>3</td>\n",
       "      <td>Ram</td>\n",
       "    </tr>\n",
       "    <tr>\n",
       "      <th>3</th>\n",
       "      <td>4</td>\n",
       "      <td>Sudesh</td>\n",
       "    </tr>\n",
       "    <tr>\n",
       "      <th>4</th>\n",
       "      <td>5</td>\n",
       "      <td>kapil</td>\n",
       "    </tr>\n",
       "  </tbody>\n",
       "</table>\n",
       "</div>"
      ],
      "text/plain": [
       "   number     name\n",
       "0       1   hitesh\n",
       "1       2  Krishna\n",
       "2       3      Ram\n",
       "3       4   Sudesh\n",
       "4       5    kapil"
      ]
     },
     "execution_count": 13,
     "metadata": {},
     "output_type": "execute_result"
    }
   ],
   "source": [
    "'''Q4. What is ‘DataFrame’ in pandas and how is it different from pandas.series? Explain with an example.'''\n",
    "'''ANS. DataFrame is a 2-dimensional labeled data structure with columns of potentially different types. \n",
    "The DataFrame actually consists of Index objects for the axes labels (row and column labels) and Series\n",
    "objects for the column data\n",
    "eg. '''\n",
    "a = [[1,\"hitesh\"], [2, \"Krishna\"], [3,\"Ram\"], [4,'Sudesh'], [5, \"kapil\"]]\n",
    "b = pd.DataFrame(a, columns = ['number', 'name'])\n",
    "b"
   ]
  },
  {
   "cell_type": "code",
   "execution_count": 14,
   "id": "378583b1",
   "metadata": {},
   "outputs": [
    {
     "data": {
      "text/plain": [
       "'converting data in Data Frame - pd.DataFrame(data, columns)\\ndf.query()'"
      ]
     },
     "execution_count": 14,
     "metadata": {},
     "output_type": "execute_result"
    }
   ],
   "source": [
    "'''Q5. What are some common functions you can use to manipulate data in a Pandas DataFrame? Can\n",
    "you give an example of when you might use one of these functions?'''\n",
    "'''converting data in Data Frame - pd.DataFrame(data, columns)\n",
    "df.query()\n",
    "df.insert(value_1, val_2,...)\n",
    "df.loc()\n",
    "'''"
   ]
  },
  {
   "cell_type": "code",
   "execution_count": null,
   "id": "88294a8f",
   "metadata": {},
   "outputs": [],
   "source": [
    "'''Q6. Which of the following is mutable in nature Series, DataFrame, Panel?''\n",
    "#All Panel, DataFrame, Series are mutable."
   ]
  },
  {
   "cell_type": "code",
   "execution_count": 15,
   "id": "43077b28",
   "metadata": {},
   "outputs": [
    {
     "name": "stdout",
     "output_type": "stream",
     "text": [
      "     Author  Article\n",
      "0  Jitender      210\n",
      "1   Purnima      211\n",
      "2     Arpit      114\n",
      "3     Jyoti      178\n"
     ]
    }
   ],
   "source": [
    "'''Q7. Create a DataFrame using multiple Series. Explain with an example.'''\n",
    "\n",
    "#Importing Pandas library\n",
    "import pandas as pd\n",
    " \n",
    "#Creating two lists\n",
    "author = ['Jitender', 'Purnima', 'Arpit', 'Jyoti']\n",
    "article = [210, 211, 114, 178]\n",
    "#Creating two Series by passing lists\n",
    "auth_series = pd.Series(author)\n",
    "article_series = pd.Series(article)\n",
    "#Creating a dictionary by passing Series objects as values\n",
    "frame = { 'Author': auth_series, 'Article': article_series }\n",
    "#Creating DataFrame by passing Dictionary\n",
    "result = pd.DataFrame(frame)\n",
    "#Printing elements of Dataframe\n",
    "print(result)\n",
    "\n"
   ]
  }
 ],
 "metadata": {
  "kernelspec": {
   "display_name": "Python 3 (ipykernel)",
   "language": "python",
   "name": "python3"
  },
  "language_info": {
   "codemirror_mode": {
    "name": "ipython",
    "version": 3
   },
   "file_extension": ".py",
   "mimetype": "text/x-python",
   "name": "python",
   "nbconvert_exporter": "python",
   "pygments_lexer": "ipython3",
   "version": "3.9.12"
  }
 },
 "nbformat": 4,
 "nbformat_minor": 5
}
