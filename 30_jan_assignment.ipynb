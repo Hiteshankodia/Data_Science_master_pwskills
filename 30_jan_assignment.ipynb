{
 "cells": [
  {
   "cell_type": "code",
   "execution_count": 4,
   "id": "06af12cf",
   "metadata": {},
   "outputs": [
    {
     "name": "stdout",
     "output_type": "stream",
     "text": [
      "Enter the percentage: 10\n",
      "D\n"
     ]
    }
   ],
   "source": [
    "#1) \n",
    "per = int(input(\"Enter the percentage: \"))\n",
    "if (per>90):\n",
    "    print(\"A\")\n",
    "elif (per>80 and per<=90):\n",
    "    print(\"B\")\n",
    "elif (per>60 and per <=80):\n",
    "    print(\"C\") \n",
    "elif (per<60):\n",
    "    print(\"D\")\n",
    "    "
   ]
  },
  {
   "cell_type": "code",
   "execution_count": 5,
   "id": "becf86ac",
   "metadata": {},
   "outputs": [
    {
     "name": "stdout",
     "output_type": "stream",
     "text": [
      "Enter the cost price of the bike: 100000\n",
      "10%\n"
     ]
    }
   ],
   "source": [
    "#2) \n",
    "cp = int(input(\"Enter the cost price of the bike: \"))\n",
    "if (cp > 100000):\n",
    "    print(\"15%\")\n",
    "elif (cp>50000 and cp<=100000):\n",
    "    print(\"10%\")\n",
    "elif (cp<=50000):\n",
    "    print(\"5%\")\n",
    "    "
   ]
  },
  {
   "cell_type": "code",
   "execution_count": 12,
   "id": "8e315359",
   "metadata": {},
   "outputs": [
    {
     "name": "stdout",
     "output_type": "stream",
     "text": [
      "Enter the city name: Jaipur\n",
      "Jal Mahal\n"
     ]
    }
   ],
   "source": [
    "#3) \n",
    "city = input(\"Enter the city name: \")\n",
    "if city == 'Delhi':\n",
    "    print(\"Red Fort\")\n",
    "elif city == 'Agra' :\n",
    "    print(\"Taj Mahal\")\n",
    "elif city == 'Jaipur' :\n",
    "    print(\"Jal Mahal\")"
   ]
  },
  {
   "cell_type": "code",
   "execution_count": 26,
   "id": "fc86193c",
   "metadata": {},
   "outputs": [
    {
     "name": "stdout",
     "output_type": "stream",
     "text": [
      "Enter the number: 100\n",
      "3\n"
     ]
    }
   ],
   "source": [
    "#4) \n",
    "count = 0 \n",
    "n = int(input(\"Enter the number: \"))\n",
    "while not(n<=10):\n",
    "    n /= 3 \n",
    "    count = count+1 \n",
    "print(count)    "
   ]
  },
  {
   "cell_type": "code",
   "execution_count": null,
   "id": "ce4f1bf2",
   "metadata": {},
   "outputs": [],
   "source": [
    "'''\n",
    "5) \n",
    "while loop is used for when the condition is true it will run the loop.\n",
    "example, we want to use take the input till we get accurate guess.'''"
   ]
  },
  {
   "cell_type": "code",
   "execution_count": 22,
   "id": "a88abac8",
   "metadata": {},
   "outputs": [
    {
     "name": "stdout",
     "output_type": "stream",
     "text": [
      "\n",
      "*\n",
      "**\n",
      "***\n",
      "****\n",
      "\n",
      "\n",
      "*****\n",
      "****\n",
      "***\n",
      "**\n",
      "*\n",
      "*\n",
      "****\n",
      "*********\n",
      "****************\n",
      "*************************\n",
      "************************************\n",
      "*************************************************\n",
      "****************************************************************\n",
      "*********************************************************************************\n",
      "****************************************************************************************************\n"
     ]
    }
   ],
   "source": [
    "#6)\n",
    "# a\n",
    "i = 0 \n",
    "j = 0\n",
    "while (not(i == 5)):\n",
    "    i = i+1 \n",
    "    while(not(j == 5)):\n",
    "        print('*'*j)\n",
    "        j = j+1 \n",
    "print('\\n')        \n",
    "# b \n",
    "a = 5 \n",
    "b = 5\n",
    "while (not(a==0)):\n",
    "    a = a-1 \n",
    "    while(not(b==0)):\n",
    "        print('*'*b)\n",
    "        b -= 1 \n",
    "\n",
    "x = 0 \n",
    "y = 0 \n",
    "while (not(x == 5)):\n",
    "    x = x+1\n",
    "    while(not(y == 10)):\n",
    "        y = y+1 \n",
    "        print('*' *(y**2))\n",
    "        \n",
    "        "
   ]
  },
  {
   "cell_type": "code",
   "execution_count": null,
   "id": "6ec3bf4f",
   "metadata": {},
   "outputs": [],
   "source": [
    "# 7) reverse a while loop to display number from 10 to 1. \n",
    "n = 10 \n",
    "while (not(n==0)):\n",
    "    print(n)\n",
    "    n = n-1 "
   ]
  },
  {
   "cell_type": "code",
   "execution_count": 2,
   "id": "192017c7",
   "metadata": {},
   "outputs": [
    {
     "name": "stdout",
     "output_type": "stream",
     "text": [
      "10\n",
      "9\n",
      "8\n",
      "7\n",
      "6\n",
      "5\n",
      "4\n",
      "3\n",
      "2\n",
      "1\n"
     ]
    }
   ],
   "source": [
    "#8)\n",
    "n = 10 \n",
    "while (not(n==0)):\n",
    "    print(n)\n",
    "    n = n-1 "
   ]
  },
  {
   "cell_type": "code",
   "execution_count": null,
   "id": "7c7ddd8d",
   "metadata": {},
   "outputs": [],
   "source": []
  },
  {
   "cell_type": "code",
   "execution_count": null,
   "id": "6cced799",
   "metadata": {},
   "outputs": [],
   "source": []
  }
 ],
 "metadata": {
  "kernelspec": {
   "display_name": "Python 3 (ipykernel)",
   "language": "python",
   "name": "python3"
  },
  "language_info": {
   "codemirror_mode": {
    "name": "ipython",
    "version": 3
   },
   "file_extension": ".py",
   "mimetype": "text/x-python",
   "name": "python",
   "nbconvert_exporter": "python",
   "pygments_lexer": "ipython3",
   "version": "3.9.12"
  }
 },
 "nbformat": 4,
 "nbformat_minor": 5
}
