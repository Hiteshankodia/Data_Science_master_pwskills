{
 "cells": [
  {
   "cell_type": "markdown",
   "id": "c9744f48-bacb-47ef-8749-7eb45d5612c8",
   "metadata": {},
   "source": [
    "Q1, Create a vehicle class with an init method having instance variables as name_of_vehicle, max_speed\r\n",
    "and average_of_vehicle."
   ]
  },
  {
   "cell_type": "code",
   "execution_count": 15,
   "id": "46a623b1-99eb-49a0-a2b5-f4dcaf14554e",
   "metadata": {},
   "outputs": [],
   "source": [
    "class Vehicle:\n",
    "    def __init__(self, name_of_vehicle, max_speed, average_of_vehicle):\n",
    "        self.name_of_vehicle = name_of_vehicle\n",
    "        self.max_speed = max_speed\n",
    "        self.average_of_vehicle = average_of_vehicle\n",
    "        "
   ]
  },
  {
   "cell_type": "markdown",
   "id": "e6f7b16a-47d5-431f-9bee-59ccd6e9f79f",
   "metadata": {},
   "source": [
    "Q2. Create a child class car from the vehicle class created in Que 1, which will inherit the vehicle class.\n",
    "Create a method named seating_capacity which takes capacity as an argument and returns the name of\n",
    "the vehicle and its seating capacity."
   ]
  },
  {
   "cell_type": "code",
   "execution_count": 16,
   "id": "0cb3739f-80c2-42ba-9a7f-0bd6ce69688d",
   "metadata": {},
   "outputs": [],
   "source": [
    "class Car(Vehicle):\n",
    "    def __init__(self, name_of_vehicle, max_speed, average_of_vehicle, capacity):\n",
    "        super().__init__(name_of_vehicle, max_speed, average_of_vehicle)\n",
    "        self.capacity = capacity\n",
    "\n",
    "    def seating_capacity(self):\n",
    "        return f\"{self.name_of_vehicle} has a seating capacity of {self.capacity}.\"\n"
   ]
  },
  {
   "cell_type": "code",
   "execution_count": 18,
   "id": "40a00fa1-d5a8-4712-a50d-f8380f7231d0",
   "metadata": {},
   "outputs": [],
   "source": [
    "car1 = Car(\"Toyota Camry\", 180, 12, 5)"
   ]
  },
  {
   "cell_type": "code",
   "execution_count": 19,
   "id": "dc710fee-6ad4-417d-a967-a9c178fe573f",
   "metadata": {},
   "outputs": [
    {
     "name": "stdout",
     "output_type": "stream",
     "text": [
      "Toyota Camry has a seating capacity of 5.\n"
     ]
    }
   ],
   "source": [
    "print(car1.seating_capacity())"
   ]
  },
  {
   "cell_type": "code",
   "execution_count": null,
   "id": "5f0ca5b5-f5d4-459f-a7d3-18f416441da8",
   "metadata": {},
   "outputs": [],
   "source": []
  },
  {
   "cell_type": "markdown",
   "id": "173a63df-364e-4972-8218-fc927dfa855f",
   "metadata": {},
   "source": [
    "Q3. What is multiple inheritance? Write a python code to demonstrate multiple inheritance."
   ]
  },
  {
   "cell_type": "markdown",
   "id": "e6ec988d-2072-4997-aa79-43dcd5ca1129",
   "metadata": {},
   "source": [
    "Multiple Inheritance - Multiple inheritance is a feature in object-oriented programming languages where a class can inherit attributes and methods from more than one parent class. In other words, a subclass can be derived from multiple base classes."
   ]
  },
  {
   "cell_type": "code",
   "execution_count": 25,
   "id": "167b964a-8596-4d28-841c-6d39ba61ccec",
   "metadata": {},
   "outputs": [],
   "source": [
    "class Animal:\n",
    "    def __init__(self, name):\n",
    "        self.name = name\n",
    "\n",
    "    def speak(self):\n",
    "        raise NotImplementedError(\"Subclass must implement abstract method\")\n",
    "\n",
    "# Parent class 2\n",
    "class Flyable:\n",
    "    def __init__(self, fly_speed):\n",
    "        self.fly_speed = fly_speed\n",
    "\n",
    "    def fly(self):\n",
    "        return f\"{self.name} is flying at {self.fly_speed} km/h\"\n",
    "\n",
    "# Child class inheriting from Animal and Flyable\n",
    "class Bird(Animal, Flyable):\n",
    "    def __init__(self, name, fly_speed):\n",
    "        Animal.__init__(self, name)\n",
    "        Flyable.__init__(self, fly_speed)\n",
    "\n",
    "    def speak(self):\n",
    "        return f\"{self.name} says Chirp!\""
   ]
  },
  {
   "cell_type": "code",
   "execution_count": 26,
   "id": "be9b93c3-dbe7-40de-a4f7-f6418cb1f0bf",
   "metadata": {},
   "outputs": [
    {
     "name": "stdout",
     "output_type": "stream",
     "text": [
      "Sparrow says Chirp!\n",
      "Sparrow is flying at 30 km/h\n"
     ]
    }
   ],
   "source": [
    "bird = Bird(\"Sparrow\", 30)\n",
    "print(bird.speak())  \n",
    "print(bird.fly())"
   ]
  },
  {
   "cell_type": "markdown",
   "id": "5be1ae94-5d4d-45bc-91be-19e8de8f9044",
   "metadata": {},
   "source": [
    "\n",
    "Q. 4 Multiple inheritance is a feature in object-oriented programming languages where a class can inherit attributes and methods from more than one parent class. In other words, a subclass can be derived from multiple base classes."
   ]
  },
  {
   "cell_type": "markdown",
   "id": "813ba5e5-4928-474b-87e8-2880a2317813",
   "metadata": {},
   "source": [
    "getters and setters are methods used to access and modify the attributes of a class, respectively. They are used to enforce encapsulation and provide controlled access to class attributes.\n",
    "\n",
    "Getter and Setter Methods:\n",
    "Getter Method: A getter method is used to access the value of a private attribute of a class. It provides read-only access to the attribute.\n",
    "\n",
    "Setter Method: A setter method is used to modify the value of a private attribute of a class. It provides write-only access to the attribute, allowing controlled modification."
   ]
  },
  {
   "cell_type": "code",
   "execution_count": 27,
   "id": "072f8408-58f0-4221-aab9-cc4add12fe4e",
   "metadata": {},
   "outputs": [
    {
     "name": "stdout",
     "output_type": "stream",
     "text": [
      "Name: Alice\n",
      "Age: 30\n",
      "Updated Name: Bob\n",
      "Updated Age: 25\n",
      "Age must be greater than zero.\n",
      "Age after invalid update: 25\n"
     ]
    }
   ],
   "source": [
    "class Person:\n",
    "    def __init__(self, name, age):\n",
    "        self._name = name  # Private attribute\n",
    "        self._age = age    # Private attribute\n",
    "\n",
    "    # Getter method for name\n",
    "    def get_name(self):\n",
    "        return self._name\n",
    "\n",
    "    # Setter method for name\n",
    "    def set_name(self, new_name):\n",
    "        self._name = new_name\n",
    "\n",
    "    # Getter method for age\n",
    "    def get_age(self):\n",
    "        return self._age\n",
    "\n",
    "    # Setter method for age\n",
    "    def set_age(self, new_age):\n",
    "        if new_age > 0:\n",
    "            self._age = new_age\n",
    "        else:\n",
    "            print(\"Age must be greater than zero.\")\n",
    "\n",
    "# Example usage\n",
    "if __name__ == \"__main__\":\n",
    "    person1 = Person(\"Alice\", 30)\n",
    "\n",
    "    # Using getter methods\n",
    "    print(f\"Name: {person1.get_name()}\")  # Output: Name: Alice\n",
    "    print(f\"Age: {person1.get_age()}\")    # Output: Age: 30\n",
    "\n",
    "    # Using setter methods\n",
    "    person1.set_name(\"Bob\")\n",
    "    person1.set_age(25)\n",
    "    print(f\"Updated Name: {person1.get_name()}\")  # Output: Updated Name: Bob\n",
    "    print(f\"Updated Age: {person1.get_age()}\")    # Output: Updated Age: 25\n",
    "\n",
    "    # Trying to set age to a negative value\n",
    "    person1.set_age(-5)  # Output: Age must be greater than zero.\n",
    "    print(f\"Age after invalid update: {person1.get_age()}\")  # Output: Age after invalid update: 25 (unchanged)\n"
   ]
  },
  {
   "cell_type": "code",
   "execution_count": null,
   "id": "663e05ae-44a4-4246-9596-8da25a19e199",
   "metadata": {},
   "outputs": [],
   "source": []
  },
  {
   "cell_type": "markdown",
   "id": "ca487e85-f00d-45ec-98f9-d168b74dd2c1",
   "metadata": {},
   "source": [
    "Q5.What is method overriding in python? Write a python code to demonstrate method overriding.\n",
    "\n"
   ]
  },
  {
   "cell_type": "code",
   "execution_count": null,
   "id": "2ce1592d-0abe-4998-a2b9-1ba648dd3bed",
   "metadata": {},
   "outputs": [],
   "source": [
    "\n",
    "ChatGPT\n",
    "Method overriding in Python refers to the ability of a subclass to provide a specific implementation of a method that is already defined in its superclass. When a method in a subclass has the same name, parameters, and return type as a method in its superclass, it overrides the superclass method."
   ]
  }
 ],
 "metadata": {
  "kernelspec": {
   "display_name": "Python 3 (ipykernel)",
   "language": "python",
   "name": "python3"
  },
  "language_info": {
   "codemirror_mode": {
    "name": "ipython",
    "version": 3
   },
   "file_extension": ".py",
   "mimetype": "text/x-python",
   "name": "python",
   "nbconvert_exporter": "python",
   "pygments_lexer": "ipython3",
   "version": "3.11.7"
  }
 },
 "nbformat": 4,
 "nbformat_minor": 5
}
